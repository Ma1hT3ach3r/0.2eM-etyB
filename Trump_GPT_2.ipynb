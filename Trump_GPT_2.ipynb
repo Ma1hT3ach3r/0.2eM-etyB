{
  "nbformat": 4,
  "nbformat_minor": 0,
  "metadata": {
    "colab": {
      "name": "Trump GPT-2",
      "provenance": [],
      "collapsed_sections": [],
      "toc_visible": true,
      "include_colab_link": true
    },
    "kernelspec": {
      "name": "python3",
      "display_name": "Python 3"
    },
    "accelerator": "GPU"
  },
  "cells": [
    {
      "cell_type": "markdown",
      "metadata": {
        "id": "view-in-github",
        "colab_type": "text"
      },
      "source": [
        "<a href=\"https://colab.research.google.com/github/Ma1hT3ach3r/0.2eM-etyB/blob/master/Trump_GPT_2.ipynb\" target=\"_parent\"><img src=\"https://colab.research.google.com/assets/colab-badge.svg\" alt=\"Open In Colab\"/></a>"
      ]
    },
    {
      "cell_type": "markdown",
      "metadata": {
        "id": "H7LoMj4GA4n_",
        "colab_type": "text"
      },
      "source": [
        "#  Train a GPT-2 Text-Generating Model w/ GPU For Free \n",
        "\n",
        "by [Max Woolf](http://minimaxir.com)\n",
        "\n",
        "*Last updated: August 28th, 2019*\n",
        "\n",
        "Retrain an advanced text generating neural network on any text dataset **for free on a GPU using Collaboratory** using `gpt-2-simple`!\n",
        "\n",
        "For more about `gpt-2-simple`, you can visit [this GitHub repository](https://github.com/minimaxir/gpt-2-simple).\n",
        "\n",
        "\n",
        "To get started:\n",
        "\n",
        "1. Copy this notebook to your Google Drive to keep it and save your changes. (File -> Save a Copy in Drive)\n",
        "2. Make sure you're running the notebook in Google Chrome.\n",
        "3. Run the cells below:\n"
      ]
    },
    {
      "cell_type": "code",
      "metadata": {
        "id": "dwpDYFBNHpKE",
        "colab_type": "code",
        "outputId": "80f47c84-ffce-4b1a-ff43-396b4ab527cd",
        "colab": {
          "base_uri": "https://localhost:8080/",
          "height": 134
        }
      },
      "source": [
        "import json\n",
        "with open(\"trump.json\", \"r\") as trump_file:\n",
        "  trump_tweets = json.load(trump_file)\n",
        "trump_tweets[0]"
      ],
      "execution_count": 0,
      "outputs": [
        {
          "output_type": "execute_result",
          "data": {
            "text/plain": [
              "{'created_at': 'Sun Dec 31 23:43:04 +0000 2017',\n",
              " 'favorite_count': 156032,\n",
              " 'id_str': '947614110082043904',\n",
              " 'is_retweet': False,\n",
              " 'retweet_count': 35394,\n",
              " 'source': 'Twitter for iPhone',\n",
              " 'text': 'HAPPY NEW YEAR! We are MAKING AMERICA GREAT AGAIN, and much faster than anyone thought possible!'}"
            ]
          },
          "metadata": {
            "tags": []
          },
          "execution_count": 3
        }
      ]
    },
    {
      "cell_type": "code",
      "metadata": {
        "id": "HI9XdhtDH4DI",
        "colab_type": "code",
        "colab": {}
      },
      "source": [
        "import re\n",
        "import pandas as pd\n",
        "# Get just the text from the tweet (the rest doesnt really mean much)\n",
        "tweets = [tweet[\"text\"] for tweet in trump_tweets]\n",
        "tweets = [re.sub(r\"http\\S+\", \"\", tweet) for tweet in tweets]\n",
        "\n",
        "\"\"\"\n",
        "# Print all that text out to a file with a delimiter\n",
        "with open(\"trump.txt\", \"w\") as tf:\n",
        "  for tweet in tweets:\n",
        "    tf.write(\"<|startoftext|>\\n\" + tweet + \"\\n <|endoftext|> \\n\")\n",
        "\"\"\"\n",
        "data = pd.DataFrame(data = tweets, columns=[\"Tweets\"])\n",
        "data.head()\n",
        "data.to_csv(\"trump.csv\", index=False)"
      ],
      "execution_count": 0,
      "outputs": []
    },
    {
      "cell_type": "code",
      "metadata": {
        "id": "KBkpRgBCBS2_",
        "colab_type": "code",
        "outputId": "d90176ae-2a50-4367-e5cf-77a6479fc562",
        "colab": {
          "base_uri": "https://localhost:8080/",
          "height": 202
        }
      },
      "source": [
        "!pip install -q gpt-2-simple\n",
        "import gpt_2_simple as gpt2\n",
        "from datetime import datetime\n",
        "from google.colab import files"
      ],
      "execution_count": 0,
      "outputs": [
        {
          "output_type": "stream",
          "text": [
            "\u001b[?25l\r\u001b[K     |▌                               | 10kB 20.4MB/s eta 0:00:01\r\u001b[K     |█                               | 20kB 26.5MB/s eta 0:00:01\r\u001b[K     |█▌                              | 30kB 30.8MB/s eta 0:00:01\r\u001b[K     |██                              | 40kB 8.8MB/s eta 0:00:01\r\u001b[K     |██▌                             | 51kB 10.3MB/s eta 0:00:01\r\u001b[K     |███                             | 61kB 11.9MB/s eta 0:00:01\r\u001b[K     |███▌                            | 71kB 13.2MB/s eta 0:00:01\r\u001b[K     |████                            | 81kB 14.4MB/s eta 0:00:01\r\u001b[K     |████▌                           | 92kB 15.6MB/s eta 0:00:01\r\u001b[K     |█████                           | 102kB 16.7MB/s eta 0:00:01\r\u001b[K     |█████▌                          | 112kB 16.7MB/s eta 0:00:01\r\u001b[K     |██████                          | 122kB 16.7MB/s eta 0:00:01\r\u001b[K     |██████▌                         | 133kB 16.7MB/s eta 0:00:01\r\u001b[K     |███████                         | 143kB 16.7MB/s eta 0:00:01\r\u001b[K     |███████▌                        | 153kB 16.7MB/s eta 0:00:01\r\u001b[K     |████████                        | 163kB 16.7MB/s eta 0:00:01\r\u001b[K     |████████▌                       | 174kB 16.7MB/s eta 0:00:01\r\u001b[K     |█████████                       | 184kB 16.7MB/s eta 0:00:01\r\u001b[K     |█████████▌                      | 194kB 16.7MB/s eta 0:00:01\r\u001b[K     |██████████                      | 204kB 16.7MB/s eta 0:00:01\r\u001b[K     |██████████▌                     | 215kB 16.7MB/s eta 0:00:01\r\u001b[K     |███████████                     | 225kB 16.7MB/s eta 0:00:01\r\u001b[K     |███████████▌                    | 235kB 16.7MB/s eta 0:00:01\r\u001b[K     |████████████                    | 245kB 16.7MB/s eta 0:00:01\r\u001b[K     |████████████▌                   | 256kB 16.7MB/s eta 0:00:01\r\u001b[K     |█████████████                   | 266kB 16.7MB/s eta 0:00:01\r\u001b[K     |█████████████▌                  | 276kB 16.7MB/s eta 0:00:01\r\u001b[K     |██████████████                  | 286kB 16.7MB/s eta 0:00:01\r\u001b[K     |██████████████▌                 | 296kB 16.7MB/s eta 0:00:01\r\u001b[K     |███████████████                 | 307kB 16.7MB/s eta 0:00:01\r\u001b[K     |███████████████▌                | 317kB 16.7MB/s eta 0:00:01\r\u001b[K     |████████████████                | 327kB 16.7MB/s eta 0:00:01\r\u001b[K     |████████████████▌               | 337kB 16.7MB/s eta 0:00:01\r\u001b[K     |█████████████████               | 348kB 16.7MB/s eta 0:00:01\r\u001b[K     |█████████████████▌              | 358kB 16.7MB/s eta 0:00:01\r\u001b[K     |██████████████████              | 368kB 16.7MB/s eta 0:00:01\r\u001b[K     |██████████████████▌             | 378kB 16.7MB/s eta 0:00:01\r\u001b[K     |███████████████████             | 389kB 16.7MB/s eta 0:00:01\r\u001b[K     |███████████████████▌            | 399kB 16.7MB/s eta 0:00:01\r\u001b[K     |████████████████████            | 409kB 16.7MB/s eta 0:00:01\r\u001b[K     |████████████████████▌           | 419kB 16.7MB/s eta 0:00:01\r\u001b[K     |█████████████████████           | 430kB 16.7MB/s eta 0:00:01\r\u001b[K     |█████████████████████▌          | 440kB 16.7MB/s eta 0:00:01\r\u001b[K     |██████████████████████          | 450kB 16.7MB/s eta 0:00:01\r\u001b[K     |██████████████████████▌         | 460kB 16.7MB/s eta 0:00:01\r\u001b[K     |███████████████████████         | 471kB 16.7MB/s eta 0:00:01\r\u001b[K     |███████████████████████▌        | 481kB 16.7MB/s eta 0:00:01\r\u001b[K     |████████████████████████        | 491kB 16.7MB/s eta 0:00:01\r\u001b[K     |████████████████████████▌       | 501kB 16.7MB/s eta 0:00:01\r\u001b[K     |█████████████████████████       | 512kB 16.7MB/s eta 0:00:01\r\u001b[K     |█████████████████████████▌      | 522kB 16.7MB/s eta 0:00:01\r\u001b[K     |██████████████████████████      | 532kB 16.7MB/s eta 0:00:01\r\u001b[K     |██████████████████████████▌     | 542kB 16.7MB/s eta 0:00:01\r\u001b[K     |███████████████████████████     | 552kB 16.7MB/s eta 0:00:01\r\u001b[K     |███████████████████████████▌    | 563kB 16.7MB/s eta 0:00:01\r\u001b[K     |████████████████████████████    | 573kB 16.7MB/s eta 0:00:01\r\u001b[K     |████████████████████████████▌   | 583kB 16.7MB/s eta 0:00:01\r\u001b[K     |█████████████████████████████   | 593kB 16.7MB/s eta 0:00:01\r\u001b[K     |█████████████████████████████▌  | 604kB 16.7MB/s eta 0:00:01\r\u001b[K     |██████████████████████████████  | 614kB 16.7MB/s eta 0:00:01\r\u001b[K     |██████████████████████████████▌ | 624kB 16.7MB/s eta 0:00:01\r\u001b[K     |███████████████████████████████ | 634kB 16.7MB/s eta 0:00:01\r\u001b[K     |███████████████████████████████▌| 645kB 16.7MB/s eta 0:00:01\r\u001b[K     |████████████████████████████████| 655kB 16.7MB/s \n",
            "\u001b[?25h  Building wheel for gpt-2-simple (setup.py) ... \u001b[?25l\u001b[?25hdone\n",
            "  Building wheel for regex (setup.py) ... \u001b[?25l\u001b[?25hdone\n",
            "WARNING:tensorflow:\n",
            "The TensorFlow contrib module will not be included in TensorFlow 2.0.\n",
            "For more information, please see:\n",
            "  * https://github.com/tensorflow/community/blob/master/rfcs/20180907-contrib-sunset.md\n",
            "  * https://github.com/tensorflow/addons\n",
            "  * https://github.com/tensorflow/io (for I/O related ops)\n",
            "If you depend on functionality not listed there, please file an issue.\n",
            "\n"
          ],
          "name": "stdout"
        }
      ]
    },
    {
      "cell_type": "markdown",
      "metadata": {
        "id": "Bj2IJLHP3KwE",
        "colab_type": "text"
      },
      "source": [
        "## GPU\n",
        "\n",
        "Colaboratory uses either a Nvidia T4 GPU or an Nvidia K80 GPU. The T4 is slightly faster than the old K80 for training GPT-2, and has more memory allowing you to train the larger GPT-2 models and generate more text.\n",
        "\n",
        "You can verify which GPU is active by running the cell below."
      ]
    },
    {
      "cell_type": "code",
      "metadata": {
        "id": "sUmTooTW3osf",
        "colab_type": "code",
        "outputId": "92fee3f8-d0c7-484e-a06c-602469c5b81e",
        "colab": {
          "base_uri": "https://localhost:8080/",
          "height": 302
        }
      },
      "source": [
        "!nvidia-smi"
      ],
      "execution_count": 0,
      "outputs": [
        {
          "output_type": "stream",
          "text": [
            "Sat Oct 12 16:22:12 2019       \n",
            "+-----------------------------------------------------------------------------+\n",
            "| NVIDIA-SMI 430.40       Driver Version: 418.67       CUDA Version: 10.1     |\n",
            "|-------------------------------+----------------------+----------------------+\n",
            "| GPU  Name        Persistence-M| Bus-Id        Disp.A | Volatile Uncorr. ECC |\n",
            "| Fan  Temp  Perf  Pwr:Usage/Cap|         Memory-Usage | GPU-Util  Compute M. |\n",
            "|===============================+======================+======================|\n",
            "|   0  Tesla K80           Off  | 00000000:00:04.0 Off |                    0 |\n",
            "| N/A   58C    P8    33W / 149W |      0MiB / 11441MiB |      0%      Default |\n",
            "+-------------------------------+----------------------+----------------------+\n",
            "                                                                               \n",
            "+-----------------------------------------------------------------------------+\n",
            "| Processes:                                                       GPU Memory |\n",
            "|  GPU       PID   Type   Process name                             Usage      |\n",
            "|=============================================================================|\n",
            "|  No running processes found                                                 |\n",
            "+-----------------------------------------------------------------------------+\n"
          ],
          "name": "stdout"
        }
      ]
    },
    {
      "cell_type": "markdown",
      "metadata": {
        "id": "0wXB05bPDYxS",
        "colab_type": "text"
      },
      "source": [
        "## Downloading GPT-2\n",
        "\n",
        "If you're retraining a model on new text, you need to download the GPT-2 model first. \n",
        "\n",
        "There are three released sizes of GPT-2:\n",
        "\n",
        "* `124M` (default): the \"small\" model, 500MB on disk.\n",
        "* `355M`: the \"medium\" model, 1.5GB on disk.\n",
        "* `774M`: the \"large\" model, cannot currently be finetuned with Colaboratory but can be used to generate text from the pretrained model (see later in Notebook)\n",
        "\n",
        "Larger models have more knowledge, but take longer to finetune and longer to generate text. You can specify which base model to use by changing `model_name` in the cells below.\n",
        "\n",
        "The next cell downloads it from Google Cloud Storage and saves it in the Colaboratory VM at `/models/<model_name>`.\n",
        "\n",
        "This model isn't permanently saved in the Colaboratory VM; you'll have to redownload it if you want to retrain it at a later time."
      ]
    },
    {
      "cell_type": "code",
      "metadata": {
        "id": "P8wSlgXoDPCR",
        "colab_type": "code",
        "outputId": "85672905-4b0c-47f2-f808-de2caf6b159a",
        "colab": {
          "base_uri": "https://localhost:8080/",
          "height": 134
        }
      },
      "source": [
        "gpt2.download_gpt2(model_name=\"124M\")"
      ],
      "execution_count": 0,
      "outputs": [
        {
          "output_type": "stream",
          "text": [
            "Fetching checkpoint: 1.05Mit [00:00, 218Mit/s]                                                      \n",
            "Fetching encoder.json: 1.05Mit [00:00, 75.2Mit/s]                                                   \n",
            "Fetching hparams.json: 1.05Mit [00:00, 362Mit/s]                                                    \n",
            "Fetching model.ckpt.data-00000-of-00001: 498Mit [00:03, 134Mit/s]                                   \n",
            "Fetching model.ckpt.index: 1.05Mit [00:00, 201Mit/s]                                                \n",
            "Fetching model.ckpt.meta: 1.05Mit [00:00, 140Mit/s]                                                 \n",
            "Fetching vocab.bpe: 1.05Mit [00:00, 104Mit/s]                                                       \n"
          ],
          "name": "stderr"
        }
      ]
    },
    {
      "cell_type": "code",
      "metadata": {
        "id": "6OFnPCLADfll",
        "colab_type": "code",
        "colab": {}
      },
      "source": [
        "file_name = \"trump.csv\""
      ],
      "execution_count": 0,
      "outputs": []
    },
    {
      "cell_type": "markdown",
      "metadata": {
        "id": "LdpZQXknFNY3",
        "colab_type": "text"
      },
      "source": [
        "\n",
        "## Finetune GPT-2\n",
        "\n",
        "The next cell will start the actual finetuning of GPT-2. It creates a persistent TensorFlow session which stores the training config, then runs the training for the specified number of `steps`. (to have the finetuning run indefinitely, set `steps = -1`)\n",
        "\n",
        "The model checkpoints will be saved in `/checkpoint/run1` by default. The checkpoints are saved every 500 steps (can be changed) and when the cell is stopped.\n",
        "\n",
        "The training might time out after 4ish hours; make sure you end training and save the results so you don't lose them!\n",
        "\n",
        "**IMPORTANT NOTE:** If you want to rerun this cell, **restart the VM first** (Runtime -> Restart Runtime). You will need to rerun imports but not recopy files.\n",
        "\n",
        "Other optional-but-helpful parameters for `gpt2.finetune`:\n",
        "\n",
        "\n",
        "*  **`restore_from`**: Set to `fresh` to start training from the base GPT-2, or set to `latest` to restart training from an existing checkpoint.\n",
        "* **`sample_every`**: Number of steps to print example output\n",
        "* **`print_every`**: Number of steps to print training progress.\n",
        "* **`learning_rate`**:  Learning rate for the training. (default `1e-4`, can lower to `1e-5` if you have <1MB input data)\n",
        "*  **`run_name`**: subfolder within `checkpoint` to save the model. This is useful if you want to work with multiple models (will also need to specify  `run_name` when loading the model)\n",
        "* **`overwrite`**: Set to `True` if you want to continue finetuning an existing model (w/ `restore_from='latest'`) without creating duplicate copies. "
      ]
    },
    {
      "cell_type": "code",
      "metadata": {
        "id": "aeXshJM-Cuaf",
        "colab_type": "code",
        "outputId": "47ba94b5-80d1-4e76-acde-83718b79cb5c",
        "colab": {
          "base_uri": "https://localhost:8080/",
          "height": 1000
        }
      },
      "source": [
        "sess = gpt2.start_tf_sess()\n",
        "\n",
        "gpt2.finetune(sess,\n",
        "              dataset=file_name,\n",
        "              model_name='124M',\n",
        "              steps=1000,\n",
        "              restore_from='fresh',\n",
        "              run_name='run1',\n",
        "              print_every=10,\n",
        "              sample_every=200,\n",
        "              save_every=500\n",
        "              )"
      ],
      "execution_count": 0,
      "outputs": [
        {
          "output_type": "stream",
          "text": [
            "WARNING:tensorflow:From /usr/local/lib/python3.6/dist-packages/gpt_2_simple/src/sample.py:17: where (from tensorflow.python.ops.array_ops) is deprecated and will be removed in a future version.\n",
            "Instructions for updating:\n",
            "Use tf.where in 2.0, which has the same broadcast rule as np.where\n",
            "Loading checkpoint models/124M/model.ckpt\n",
            "INFO:tensorflow:Restoring parameters from models/124M/model.ckpt\n"
          ],
          "name": "stdout"
        },
        {
          "output_type": "stream",
          "text": [
            "100%|██████████| 1/1 [00:00<00:00, 20.28it/s]"
          ],
          "name": "stderr"
        },
        {
          "output_type": "stream",
          "text": [
            "Loading dataset...\n"
          ],
          "name": "stdout"
        },
        {
          "output_type": "stream",
          "text": [
            "\n"
          ],
          "name": "stderr"
        },
        {
          "output_type": "stream",
          "text": [
            "dataset has 615464 tokens\n",
            "Training...\n",
            "[10 | 51.82] loss=2.50 avg=2.50\n",
            "[20 | 96.31] loss=2.35 avg=2.42\n",
            "[30 | 140.74] loss=2.14 avg=2.33\n",
            "[40 | 185.19] loss=2.12 avg=2.28\n",
            "[50 | 229.67] loss=2.22 avg=2.26\n",
            "[60 | 274.05] loss=2.37 avg=2.28\n",
            "[70 | 318.47] loss=2.31 avg=2.29\n",
            "[80 | 362.87] loss=1.75 avg=2.22\n",
            "[90 | 407.28] loss=2.16 avg=2.21\n",
            "[100 | 451.75] loss=2.04 avg=2.19\n",
            "[110 | 496.20] loss=2.12 avg=2.19\n",
            "[120 | 540.64] loss=2.08 avg=2.18\n",
            "[130 | 585.10] loss=2.07 avg=2.17\n",
            "[140 | 629.54] loss=1.86 avg=2.14\n",
            "[150 | 673.92] loss=1.98 avg=2.13\n",
            "[160 | 718.37] loss=2.06 avg=2.13\n",
            "[170 | 762.86] loss=1.90 avg=2.11\n",
            "[180 | 807.25] loss=2.21 avg=2.12\n",
            "[190 | 851.69] loss=1.89 avg=2.11\n",
            "[200 | 896.08] loss=1.95 avg=2.10\n",
            "======== SAMPLE 1 ========\n",
            ": This is not going to happen. A year ago, this was going to be a bad thing for Russia and for the world. A lot of talk. Very little action on ISIS and many bad things happening with North Korea. Zero on ISIS but a lot of talk, probably never again. Big mistake made, but we will fix this and make America Great again. #TrumpPence17 <|endoftext|>\n",
            "<|startoftext|>“It’s Time, We're On The Agenda.”  @MariaBartiromo @LouDobbs   The Democrats love doing things that they know could be a disaster for their agenda but have never actually done! <|endoftext|>\n",
            "<|startoftext|>“Now that the Fake News is talking badly about President Erdogan’s policies, what about what people’s views of President Trump?” @LouDobbs<|endoftext|>\n",
            "<|startoftext|>I didn’t have a clue when I was in the Navy. I never thought there would be such a massive problem during my years in the Navy. I was never a student of policy so much as of practice. @MarkHalpern <|endoftext|>\n",
            "<|startoftext|>I don’t know that much about the Ukrainian Wars since my graduation. I would guess that the average person knows little, maybe little, about these Wars. It is possible that the average person can never recall knowing much about the Ukrainian Wars - even after many years of lying. So many factors involved - but very few facts!<|endoftext|>\n",
            "<|startoftext|>The Washington Post ran a terrible story in October on President Obama concerning his handling of the Ukrainian Wars. We will not waste time on such bad stories!<|endoftext|>\n",
            "<|startoftext|>Congratulations to our great police on the most difficult and most dangerous police investigation in American history! Congratulations to the FBI and all. We cannot take them anymore!<|endoftext|>\n",
            "<|startoftext|>“President Elect Donald J. Trump is a truly great President, perhaps the greatest ever. He will be an outstanding President. We are proud of the men and women of law enforcement for what they do and are forever grateful for the incredible bravery and dedication of the United States Military.          #TrumpPence16<|endoftext|>\n",
            "<|startoftext|>Happy Birthday to the Great St. Louis Tigers! <|endoftext|>\n",
            "<|startoftext|>....We are not at war with North Korea yet. At a minimum, it will soon be a possibility for us to do so, and I cannot wait. If it ends shortly (and I do think it will?), we will be very happy. It is time to start planning our next steps - and it really does have to start now. All you have to do is look at how far along your decisions are!<|endoftext|>\n",
            "<|startoftext|>....a deal is being made. It looks like there will be a good deal of benefits to be realized from this, which could be substantially higher Trade, Energy and Infrastructure....<|endoftext|>\n",
            "<|startoftext|>The United States is very proud of the great young man, Andrew M, who has done more than anyone else over the past two decades and he will be greatly missed.<|endoftext|>\n",
            "<|startoftext|>My thoughts and prayers are with the young, great Andrew M and his family. God bless him!<|endoftext|>\n",
            "<|startoftext|>We have a problem. It is called Fake News, not Presidential Administration. Fake News CNN was the front page story of the day. They made up stories, like, what was going on in Ukraine, I guess I didn’t mention that I was meeting so-called rebels in Ukraine, it was the same story all over. What was going on? @CNN<|endoftext|>\n",
            "<|startoftext|>My thoughts and prayers are with the newly formed Andrew M. M. who is doing very well and having his first grandstanding speech before his granddaughters. God bless all.<|endoftext|>\n",
            "<|startoftext|>My thoughts and prayers are with the newly formed Andrew M. M., who is doing very well and having his first grandstanding speech before his granddaughters. God bless all.<|endoftext|>\n",
            "<|startoftext|>It is a very sad night for the United States of America. The very brave police are now doing a very brave man in North Korea, called 'Dmitry Volodin'. He said they were\n",
            "\n",
            "[210 | 958.42] loss=1.83 avg=2.08\n",
            "[220 | 1002.81] loss=1.79 avg=2.07\n",
            "[230 | 1047.28] loss=1.67 avg=2.05\n",
            "[240 | 1091.73] loss=1.98 avg=2.05\n",
            "[250 | 1136.17] loss=1.74 avg=2.03\n",
            "[260 | 1180.56] loss=1.74 avg=2.02\n",
            "[270 | 1224.96] loss=2.07 avg=2.02\n",
            "[280 | 1269.37] loss=1.85 avg=2.01\n",
            "[290 | 1313.82] loss=1.83 avg=2.01\n",
            "[300 | 1358.29] loss=1.64 avg=1.99\n",
            "[310 | 1402.74] loss=1.58 avg=1.98\n",
            "[320 | 1447.20] loss=1.68 avg=1.97\n",
            "[330 | 1491.62] loss=1.52 avg=1.95\n",
            "[340 | 1536.08] loss=1.84 avg=1.95\n",
            "[350 | 1580.47] loss=1.43 avg=1.93\n",
            "[360 | 1624.85] loss=1.65 avg=1.92\n",
            "[370 | 1669.26] loss=1.48 avg=1.91\n",
            "[380 | 1713.72] loss=1.81 avg=1.90\n",
            "[390 | 1758.17] loss=1.49 avg=1.89\n",
            "[400 | 1802.65] loss=1.37 avg=1.88\n",
            "======== SAMPLE 1 ========\n",
            " decades, the economy is booming, jobs and taxes are high. We also know that despite record bailouts and slowdowns, growth in USA is at an all time record high!<|endoftext|>\n",
            "<|startoftext|><|endoftext|>\n",
            "<|startoftext|>Today, we gathered as we all gathered here in Denver for the biggest and most historic gathering of American patriots anywhere in the World. This morning, we will remember and celebrate America - we are united by this shared mission to unify our country – and we MUST VOTE FOR THE LITTLE PIGGED, CHILD MALES, &amp; PASTOR OF AMERICA! <|endoftext|>\n",
            "<|startoftext|>....We will also always be vigilant against those who knowingly threaten to ruin the GREAT American Flag and its beautiful golden trident. We will also ALWAYS protect those who celebrate, protect our nation, and uphold our values.  AMERICA IS BROKEN!<|endoftext|>\n",
            "<|startoftext|>Congratulations to @MarthaMcVay on her election to the United States Senate. She will be a great Senator representing West Virginia, and we are all very proud of you- you will make her our great Senator!<|endoftext|>\n",
            "<|startoftext|>President Obama's second term has been defined by the extraordinary courage, sacrifice and hard work of our American citizens. The Obama Administration’s policies have unleashed across the Middle East, including devastating tornados and tornadoes. We are with you in this effort. #LESM <|endoftext|>\n",
            "<|startoftext|>“Remarks in New Hampshire: The American Family Association is stronger than ever. They are making America stronger again. Thank you!” <|endoftext|>\n",
            "<|startoftext|><|endoftext|>\n",
            "<|startoftext|>Thank you Las Vegas Review Journal for your kind words! <|endoftext|>\n",
            "<|startoftext|><|endoftext|>\n",
            "<|startoftext|>Thank you New Hampshire! #Trump2016 <|endoftext|>\n",
            "<|startoftext|>Thank you Maine! I will be back for another campaign in NH and NE tomorrow! \n",
            "#MakeAmericaSafeAgain #Trump2016 <|endoftext|>\n",
            "<|startoftext|>Thank you Colorado! I love you!\n",
            "#MakeAmericaSafeAgain #Trump2016 <|endoftext|>\n",
            "<|startoftext|>A star rises from the ground! <|endoftext|>\n",
            "<|startoftext|>Wow, Hillary is a joke!\n",
            "#MakeAmericaSafeAgain #Trump2016 #TrumpTrain #AmericaFirst\n",
            "<|endoftext|>\n",
            "<|startoftext|>“Remarks in New Hampshire: The American Family Association is stronger than ever. They are making America stronger again. Thank you!” <|endoftext|>\n",
            "<|startoftext|>Thank you Portland, Maine!\n",
            "#MakeAmericaSafeAgain #Trump2016 <|endoftext|>\n",
            "<|startoftext|>I look forward to my rally in Westfield, Maine tomorrow night. People are tired of being robbed and pushed around. I will NEVER AGAIN stand for the false and disgusting  charges levied against me!<|endoftext|>\n",
            "<|startoftext|>I will never forget the first time a woman from New Hampshire came to my campaign “to talk,” but when I got to her seat, I told her to go wherever or wherever she wanted. I told her she couldn’t get anywhere in Maine. We called and begged for her seat. She said, “just in case.” I told her she could’t get anywhere but New Hampshire. We were paid to go. Many others went. Thank you New Hampshire!<|endoftext|>\n",
            "<|startoftext|>MAKE AMERICA GREAT AGAIN!<|endoftext|>\n",
            "<|startoftext|>Thank you to @GovPencePenskexmire for your kind words on our fallen heroes. <|endoftext|>\n",
            "<|startoftext|>In New Hampshire women are being treated far more like equal partners than ever before. In New York a woman can make out millions of dollars with the success of a run-in with a man. New Hampshire &amp; New York will see a new women-only league and Super Bowl. All New York!<|endoftext|>\n",
            "<|startoftext|>MAKE AMERICA SAFE AGAIN!<|endoftext|>\n",
            "<|startoftext|>Thank you New Hampshire!\n",
            "#MakeAmerica\n",
            "\n",
            "[410 | 1863.66] loss=1.39 avg=1.86\n",
            "[420 | 1908.10] loss=1.72 avg=1.86\n",
            "[430 | 1952.58] loss=1.65 avg=1.85\n",
            "[440 | 1997.08] loss=1.08 avg=1.83\n",
            "[450 | 2041.54] loss=1.34 avg=1.82\n",
            "[460 | 2085.96] loss=1.53 avg=1.81\n",
            "[470 | 2130.39] loss=1.49 avg=1.80\n",
            "[480 | 2174.86] loss=1.54 avg=1.79\n",
            "[490 | 2219.31] loss=1.17 avg=1.78\n",
            "[500 | 2263.81] loss=1.18 avg=1.76\n",
            "Saving checkpoint/run1/model-500\n",
            "[510 | 2311.56] loss=1.34 avg=1.75\n",
            "[520 | 2356.05] loss=1.33 avg=1.74\n",
            "[530 | 2400.51] loss=1.29 avg=1.73\n",
            "[540 | 2445.01] loss=1.54 avg=1.73\n",
            "[550 | 2489.50] loss=1.22 avg=1.71\n",
            "[560 | 2533.97] loss=1.22 avg=1.70\n",
            "[570 | 2578.44] loss=1.09 avg=1.69\n",
            "[580 | 2622.87] loss=0.82 avg=1.67\n",
            "[590 | 2667.36] loss=0.96 avg=1.65\n",
            "[600 | 2711.75] loss=1.09 avg=1.64\n",
            "======== SAMPLE 1 ========\n",
            "....The Fake News hates me, but at what price they are putting me!<|endoftext|>\n",
            "<|startoftext|>The first part of my term in office will create jobs and drive jobs out of the United States.\n",
            "<|endoftext|>\n",
            "<|startoftext|>THANK YOU @GovMarkWicker @SenMarkWarner  @FLOTUS Melania and my wonderful @Son Eric on this morning. Looking forward to a great day in France! <|endoftext|>\n",
            "<|startoftext|><|endoftext|>\n",
            "<|startoftext|>Join me in Washington, D.C. this Saturday, November 8th at 7pm ET! #ICYMI, #MAGA <|endoftext|>\n",
            "<|startoftext|>MAKE AMERICA GREAT AGAIN!\n",
            "#AmericanRetailers #MAGA <|endoftext|>\n",
            "<|startoftext|>MAKE AMERICA GREAT AGAIN! #ICYMI, #MAGA<|endoftext|>\n",
            "<|startoftext|>America is proud to stand shoulder-to-shoulder with the brave men and women of the United States Marines! #RIPMO<|endoftext|>\n",
            "<|startoftext|>Thank you - I will fix this totally partisan and unfair system. America first! #MAGA<|endoftext|>\n",
            "<|startoftext|>The European Union is refusing to help us, as Europe is a big contributor to the U.S. That, and, separately, I will build a WALL in the U.S.<|endoftext|>\n",
            "<|startoftext|>The great Americans of @ABCPolitics will be having a debate tonight on the economy! #TrumpPence16<|endoftext|>\n",
            "<|startoftext|>I was right about Mexico. If Mexico is unwilling to make payments for the border wall, there will eventually be no wall - they want them!<|endoftext|>\n",
            "<|startoftext|>I strongly supported the wall prior to the election, but was wrong! In other words, it will pay for itself in 2 years.<|endoftext|>\n",
            "<|startoftext|>Thank you for sticking out the word “TRUMP.” We are living through an INOCULATION, and you should be happy about that. Big ratings loss in 4 years. So funny!<|endoftext|>\n",
            "<|startoftext|>Thank you @senatemajldr Mitch McConnell, just said: “I do not believe it’s appropriate for me to be talking about a wall. I don’t know....<|endoftext|>\n",
            "<|startoftext|>The Fake News Media is doing so much dishonest reporting, that they are getting even more desperate. They are desperate because they cannot say for sure that Mexico will not pay for the wall. They are desperate because they know they can do nothing!<|endoftext|>\n",
            "<|startoftext|>Senator @MarkWarnerVA said on @BreitbartNews  “I’d rather stay in this seat.” It is a really sad situation where so much support is leaving the Dems. The people of Virginia deserve better than this!<|endoftext|>\n",
            "<|startoftext|>Senator @MarkWarnerVA said on @BreitbartNews  “I’d rather stay in this seat.” It is a really sad situation where so much support is leaving the Dems. The people of Virginia deserve better.......<|endoftext|>\n",
            "<|startoftext|>We need Democrats to do NOTHING to fix the WALL, which will pay for itself AFTER THE BAN. You can’t have a wall unless you go to a BIG UNIFYING like Mexico. We don’t have a country that does NOTHING!<|endoftext|>\n",
            "<|startoftext|>“$50 Billion Trade Meltdown” <|endoftext|>\n",
            "<|startoftext|>The Democrats made this wall the deal's not the wall’s, they made the deal “Wall.” Wow, they didn’t read the deal!<|endoftext|>\n",
            "<|startoftext|>The Democrats made this wall the deal’s not the wall’s, they made the deal “Wall.” Wow!<|endoftext|>\n",
            "<|startoftext|>“Presidential Harassment!”  @IngrahamAngle <|endoftext|>\n",
            "<|startoftext|>“Presidential Harassment!”\n",
            "\n",
            "[610 | 2772.84] loss=1.14 avg=1.63\n",
            "[620 | 2817.21] loss=0.97 avg=1.62\n",
            "[630 | 2861.56] loss=0.96 avg=1.60\n",
            "[640 | 2905.87] loss=0.92 avg=1.59\n",
            "[650 | 2950.19] loss=1.03 avg=1.58\n",
            "[660 | 2994.54] loss=1.15 avg=1.57\n",
            "[670 | 3038.88] loss=0.96 avg=1.55\n",
            "[680 | 3083.23] loss=1.20 avg=1.55\n",
            "[690 | 3127.61] loss=1.19 avg=1.54\n",
            "[700 | 3171.99] loss=0.90 avg=1.53\n",
            "[710 | 3216.35] loss=1.05 avg=1.52\n",
            "[720 | 3260.76] loss=1.17 avg=1.51\n",
            "[730 | 3305.22] loss=1.21 avg=1.51\n",
            "[740 | 3349.69] loss=1.09 avg=1.50\n",
            "[750 | 3394.14] loss=1.26 avg=1.49\n",
            "[760 | 3438.58] loss=1.22 avg=1.49\n",
            "[770 | 3483.05] loss=0.78 avg=1.47\n",
            "[780 | 3527.48] loss=0.94 avg=1.46\n",
            "[790 | 3571.94] loss=0.92 avg=1.45\n",
            "[800 | 3616.14] loss=0.82 avg=1.44\n",
            "======== SAMPLE 1 ========\n",
            "|\n",
            "<|startoftext|>Thank you to the great Governor @arapp. Great job and @DHSgov.<|endoftext|>\n",
            "<|startoftext|>Thank you!\n",
            "Harrisburg, Pennsylvania \n",
            "#Trump2016 \n",
            " <|endoftext|>\n",
            "<|startoftext|>Big win in Iowa. #Trump2016\n",
            "Watch here:  <|endoftext|>\n",
            "<|startoftext|>Thank you!\n",
            "Salem, North Carolina \n",
            "#MakeAmericaGreatAgain #Trump2016 <|endoftext|>\n",
            "<|startoftext|>Thank you! #Trump2016 <|endoftext|>\n",
            "<|startoftext|><|endoftext|>\n",
            "<|startoftext|>Thank you!\n",
            "Salem, North Carolina\n",
            "#MakeAmericaGreatAgain #Trump2016 \n",
            " \n",
            "<|endoftext|>\n",
            "<|startoftext|>Thank you! #Trump2016\n",
            " <|endoftext|>\n",
            "<|startoftext|><|endoftext|>\n",
            "<|startoftext|>\"Every American has the right to be reassured that what they are getting themselves into is not guaranteed – and it's not guaranteed-- it's not guaranteed OBSTRUCTION!\"\n",
            "#MakeAmericaGreatAgain #Trump2016\n",
            "<|endoftext|>\n",
            "<|startoftext|>Thank you! #Trump2016  <|endoftext|>\n",
            "<|startoftext|>A great honor! #Trump2016 #MakeAmericaGreatAgain <|endoftext|>\n",
            "<|startoftext|>I will be interviewed by @oreillyfactor tonight at 8 PM on @FoxNews! Enjoy!<|endoftext|>\n",
            "<|startoftext|>Wow, @MZHemingway did a segment on @seanhannity on Sunday morning with Dan. Great show!<|endoftext|>\n",
            "<|startoftext|>My thoughts and prayers are with the @GinaHiltonGR family in South Carolina. #Trump2016 <|endoftext|>\n",
            "<|startoftext|>Wow! Come on now Dan, you look really nice. See how I look in these pictures - GUSSLE! \n",
            "#MakeAmericaGreatAgain<|endoftext|>\n",
            "<|startoftext|>Troy Mankiewicz (on @SeanHannity now), @GinaHiltonGR and @IvankaTrump are doing great! Happy for me to have her. @seanhannity<|endoftext|>\n",
            "<|startoftext|>I have been waiting for Trump so long - he won't let Katie, @GinaHiltonGR and many others have her - Crooked Hillary!<|endoftext|>\n",
            "<|startoftext|>It was just reported that Rep. Tom Marino, who in 2005 had a long and nasty history of lying, is now admitting that he lied. This is a total double standard on the part of the law!<|endoftext|>\n",
            "<|startoftext|><|endoftext|>\n",
            "<|startoftext|>Great jobs numbers and finally, after many years, growing fast. I have given up the contest and the two most corrupt people in the U.S. Senate also for opposite party?<|endoftext|>\n",
            "<|startoftext|>Thank you John. Great things are happening! <|endoftext|>\n",
            "<|startoftext|>Just landed in New York. Incredible crowd, tremendous enthusiasm. Go out and vote now - I am all set!<|endoftext|>\n",
            "<|startoftext|>I can't believe that @ABC, which is not only average, but by far the best in the ratings, @FoxNews, which I respect and watch very much, should fall much flat on its head!<|endoftext|>\n",
            "<|startoftext|>Great job Kevin! <|endoftext|>\n",
            "<|startoftext|>See you in Kentucky! #Trump2016 <|endoftext|>\n",
            "<|startoftext|>Thank you Macon, Georgia! Get out and \n",
            "out vote for  @JudgeJeanine tonight at 8:30pmE (9pmE). It will be a fantastic day for the USA! #Trump2016<|endoftext|>\n",
            "<|startoftext|>People are coming from all over the U.S. and many years from countries that were not countries in that there is no such thing as a \"Country. It all begins with a Place. <|endoftext|>\n",
            "<|startoftext|><|endoftext|>\n",
            "<|startoftext|>So\n",
            "\n",
            "[810 | 3677.58] loss=1.00 avg=1.44\n",
            "[820 | 3721.88] loss=1.19 avg=1.43\n",
            "[830 | 3766.22] loss=0.90 avg=1.42\n",
            "[840 | 3810.48] loss=0.60 avg=1.41\n",
            "[850 | 3854.79] loss=0.68 avg=1.39\n",
            "[860 | 3899.07] loss=1.19 avg=1.39\n",
            "[870 | 3943.33] loss=1.09 avg=1.39\n",
            "[880 | 3987.64] loss=0.62 avg=1.37\n",
            "[890 | 4031.96] loss=0.56 avg=1.36\n",
            "[900 | 4076.28] loss=0.67 avg=1.35\n",
            "[910 | 4120.59] loss=0.70 avg=1.34\n",
            "[920 | 4164.94] loss=0.64 avg=1.33\n",
            "[930 | 4209.22] loss=0.50 avg=1.31\n",
            "[940 | 4253.46] loss=0.92 avg=1.31\n",
            "[950 | 4297.71] loss=0.66 avg=1.29\n",
            "[960 | 4341.93] loss=0.51 avg=1.28\n",
            "[970 | 4386.20] loss=0.53 avg=1.27\n",
            "[980 | 4430.53] loss=0.62 avg=1.26\n",
            "[990 | 4474.76] loss=0.76 avg=1.25\n",
            "[1000 | 4519.09] loss=0.65 avg=1.24\n",
            "Saving checkpoint/run1/model-1000\n",
            "WARNING:tensorflow:From /usr/local/lib/python3.6/dist-packages/tensorflow_core/python/training/saver.py:963: remove_checkpoint (from tensorflow.python.training.checkpoint_management) is deprecated and will be removed in a future version.\n",
            "Instructions for updating:\n",
            "Use standard file APIs to delete files with this prefix.\n"
          ],
          "name": "stdout"
        }
      ]
    },
    {
      "cell_type": "markdown",
      "metadata": {
        "id": "IXSuTNERaw6K",
        "colab_type": "text"
      },
      "source": [
        "After the model is trained, you can copy the checkpoint folder to your own Google Drive.\n",
        "\n",
        "If you want to download it to your personal computer, it's strongly recommended you copy it there first, then download from Google Drive. The checkpoint folder is copied as a `.rar` compressed file; you can download it and uncompress it locally."
      ]
    },
    {
      "cell_type": "code",
      "metadata": {
        "id": "5eqPxokDFbh_",
        "colab_type": "code",
        "colab": {}
      },
      "source": [
        "!zip -r file.zip checkpoint"
      ],
      "execution_count": 0,
      "outputs": []
    },
    {
      "cell_type": "markdown",
      "metadata": {
        "id": "qQJgV_b4bmzd",
        "colab_type": "text"
      },
      "source": [
        "You're done! Feel free to go to the **Generate Text From The Trained Model** section to generate text based on your retrained model."
      ]
    },
    {
      "cell_type": "markdown",
      "metadata": {
        "id": "pel-uBULXO2L",
        "colab_type": "text"
      },
      "source": [
        "## Load a Trained Model Checkpoint\n",
        "\n",
        "Running the next cell will copy the `.rar` checkpoint file from your Google Drive into the Colaboratory VM."
      ]
    },
    {
      "cell_type": "code",
      "metadata": {
        "id": "DCcx5u7sbPTD",
        "colab_type": "code",
        "colab": {}
      },
      "source": [
        "gpt2.copy_checkpoint_from_gdrive(run_name='run1')"
      ],
      "execution_count": 0,
      "outputs": []
    },
    {
      "cell_type": "markdown",
      "metadata": {
        "id": "RTa6zf3e_9gV",
        "colab_type": "text"
      },
      "source": [
        "The next cell will allow you to load the retrained model checkpoint + metadata necessary to generate text.\n",
        "\n",
        "**IMPORTANT NOTE:** If you want to rerun this cell, **restart the VM first** (Runtime -> Restart Runtime). You will need to rerun imports but not recopy files."
      ]
    },
    {
      "cell_type": "code",
      "metadata": {
        "id": "-fxL77nvAMAX",
        "colab_type": "code",
        "colab": {}
      },
      "source": [
        "\n",
        "gpt2.load_gpt2(sess, run_name='run1')"
      ],
      "execution_count": 0,
      "outputs": []
    },
    {
      "cell_type": "markdown",
      "metadata": {
        "id": "ClJwpF_ACONp",
        "colab_type": "text"
      },
      "source": [
        "## Generate Text From The Trained Model\n",
        "\n",
        "After you've trained the model or loaded a retrained model from checkpoint, you can now generate text. `generate` generates a single text from the loaded model."
      ]
    },
    {
      "cell_type": "code",
      "metadata": {
        "id": "4RNY6RBI9LmL",
        "colab_type": "code",
        "outputId": "2c57151c-16d9-48ad-a2e1-a3fd6b1f97b3",
        "colab": {
          "base_uri": "https://localhost:8080/",
          "height": 390
        }
      },
      "source": [
        "gpt2.generate(sess, run_name='run1')"
      ],
      "execution_count": 0,
      "outputs": [
        {
          "output_type": "stream",
          "text": [
            "Check out the new poll from FMR Research &amp; just out with same numbers as last week's. Thank you!<|endoftext|>\n",
            "<|startoftext|>The mainstream media is unrelenting. They will only go with and report stories that make you question the entire process. No wonder their ratings &amp; ratings for Trump's supporters is “ratebound.” Only time will tell!<|endoftext|>\n",
            "<|startoftext|>....working hard. They said the positive energy coming out of the @WhiteHouse is just beginning to heal, and that would continue into the future. I want to thank our great team at @FMRResearch for the incredible amount of time, and money, they, and the entire media, spends on our great and talented people. They have done a fantastic job!<|endoftext|>\n",
            "<|startoftext|>Interview with @seanhannity on @FoxNews - 7:00 P.M. (Saturday). <|endoftext|>\n",
            "<|startoftext|>I want to thank the incredible staff and volunteers of The White House. THANK YOU! <|endoftext|>\n",
            "<|startoftext|>The crew building the Wall at the Southern Border is not looking good or going anywhere. I want everyone, including illegal immigrants, to be SAFE on our very porous border. I have spoken with both the Senate and White House staff about this problem and they are working very hard on this!<|endoftext|>\n",
            "<|startoftext|>Thank you @FoxNews and @SarahPalin on @SarahHuckabee's new book, “Rebuilding America: Lessons from the Obama Administration.” Get it soon!<|endoftext|>\n",
            "<|startoftext|>Thank you @RepRickScott, and @JohnBarrasso for the nice reviews of this book. Sooo nice!<|endoftext|>\n",
            "<|startoftext|>Great job by Texas Law Enforcement and First Responders at the Southern Border. A team working very hard to find anything that would lead us to believe that there was a crime...hence, “FIRST COMING ATTACKS.”<|endoftext|>\n",
            "<|startoftext|>Just arrived in Texas! <|endoftext|>\n",
            "<|startoftext|>Great job by the Border Patrol at the Southern Border.  They apprehended a large number of people at the Border and quickly apprehended the crime of terrorism. We are tracking this crime under an authority not yet determined.<|endoftext|>\n",
            "<|startoftext|>Great job by the U.S. Coast Guard at the Southern Border.  They apprehended a large number of people at the Border and quickly apprehended the crime of terrorism. We are tracking this crime under an authority not yet determined.<|endoftext|>\n",
            "<|startoftext|><|endoftext|>\n",
            "<|startoftext|>“These are grave crimes.” Judge Brett Kavanaugh, DOJ. We must find the leakers! Our country must follow the lead of the American public!<|endoftext|>\n",
            "<|startoftext|>Great job by the U.S. Coast Guard at the Southern Border.  They apprehended a large number of people at the Border and quickly apprehended the crime of terrorism. We are tracking this crime under an authority not yet determined.<|endoftext|>\n",
            "<|startoftext|>....under an authority that has not been revealed.” Judge Brett Kavanaugh, formerly of U.S. Supreme Court. The crime? Leaking classified information to a journalist (and the public), which is illegal. We need the leakers. Sadly, there are few and far between few remaining secrets... <|endoftext|>\n",
            "<|startoftext|>Today, it was my honor to welcome the 2017 NCAA Football National Champion, Alabama Crimson Tide - to the White House, Justice John Roberts! <|endoftext|>\n",
            "<|startoftext|>Today, it was my great honor to welcome the 2017 NCAA Football National Champion, Alabama Crimson Tide - to the White House, Justice John Roberts! <|endoftext|>\n",
            "<|startoftext|>Today, it was my great honor to welcome the 2017 NCAA Football National Champion, Alabama Crimson Tide - to the White House, Justice John Roberts!<|endoftext|>\n",
            "<|startoftext|>“The President has absolutely demonstrated no wrongdoing whatsoever. The facts are undisputed. There’s no collusion between the Russians &amp; Trump Campaign...” Judge Brett Kavanaugh, formerly of U.S. Supreme Court. The crimes committed are grave...<|endoftext|>\n",
            "<|start\n"
          ],
          "name": "stdout"
        }
      ]
    },
    {
      "cell_type": "markdown",
      "metadata": {
        "id": "oF4-PqF0Fl7R",
        "colab_type": "text"
      },
      "source": [
        "If you're creating an API based on your model and need to pass the generated text elsewhere, you can do `text = gpt2.generate(sess, return_as_list=True)[0]`\n",
        "\n",
        "You can also pass in a `prefix` to the generate function to force the text to start with a given character sequence and generate text from there (good if you add an indicator when the text starts).\n",
        "\n",
        "You can also generate multiple texts at a time by specifing `nsamples`. Unique to GPT-2, you can pass a `batch_size` to generate multiple samples in parallel, giving a massive speedup (in Colaboratory, set a maximum of 20 for `batch_size`).\n",
        "\n",
        "Other optional-but-helpful parameters for `gpt2.generate` and friends:\n",
        "\n",
        "*  **`length`**: Number of tokens to generate (default 1023, the maximum)\n",
        "* **`temperature`**: The higher the temperature, the crazier the text (default 0.7, recommended to keep between 0.7 and 1.0)\n",
        "* **`top_k`**: Limits the generated guesses to the top *k* guesses (default 0 which disables the behavior; if the generated output is super crazy, you may want to set `top_k=40`)\n",
        "* **`top_p`**: Nucleus sampling: limits the generated guesses to a cumulative probability. (gets good results on a dataset with `top_p=0.9`)\n",
        "* **`truncate`**: Truncates the input text until a given sequence, excluding that sequence (e.g. if `truncate='<|endoftext|>'`, the returned text will include everything before the first `<|endoftext|>`). It may be useful to combine this with a smaller `length` if the input texts are short.\n",
        "*  **`include_prefix`**: If using `truncate` and `include_prefix=False`, the specified `prefix` will not be included in the returned text."
      ]
    },
    {
      "cell_type": "code",
      "metadata": {
        "id": "8DKMc0fiej4N",
        "colab_type": "code",
        "colab": {}
      },
      "source": [
        "import random\n",
        "def i_am_trump(prompt):\n",
        "  texts = gpt2.generate(sess,\n",
        "                        length=250,\n",
        "                        temperature=1.1,\n",
        "                        prefix=prompt,\n",
        "                        nsamples=5,\n",
        "                        batch_size=5,\n",
        "                        return_as_list=True\n",
        "                        )\n",
        "  return random.choice(texts).split(\"<|\")[0]"
      ],
      "execution_count": 0,
      "outputs": []
    },
    {
      "cell_type": "code",
      "metadata": {
        "id": "BbRRG_NrGpZ9",
        "colab_type": "code",
        "outputId": "33b494ec-9915-4750-ebdb-c185be05d451",
        "colab": {
          "base_uri": "https://localhost:8080/",
          "height": 54
        }
      },
      "source": [
        "i_am_trump(\"\")"
      ],
      "execution_count": 0,
      "outputs": [
        {
          "output_type": "execute_result",
          "data": {
            "text/plain": [
              "'Mainstream Media &amp; Democrat Party seem ready to send in our debt testimony. \"Manufacturers “makers\" (Reprealit, they aren “really” losing interest) aren’t paying attention because a big 10 \"Maine\" newspapers, just disabled from exposing 3* bad ads, went missing (you’re welcome!) with their public apology, issued months before year Video: The FBI gone rogue. Nobody knows who the real LaYou campaigned for: Ted Cruz, who signed father talks secunda for meeting (unlike Elgazzer) Now that all involved can work out a way, let\\'s look at Lyin’ Ted loses, but does win, wacky campaign!'"
            ]
          },
          "metadata": {
            "tags": []
          },
          "execution_count": 23
        }
      ]
    },
    {
      "cell_type": "markdown",
      "metadata": {
        "id": "zjjEN2Tafhl2",
        "colab_type": "text"
      },
      "source": [
        "For bulk generation, you can generate a large amount of text to a file and sort out the samples locally on your computer. The next cell will generate a generated text file with a unique timestamp.\n",
        "\n",
        "You can rerun the cells as many times as you want for even more generated texts!"
      ]
    },
    {
      "cell_type": "code",
      "metadata": {
        "id": "Fa6p6arifSL0",
        "colab_type": "code",
        "colab": {}
      },
      "source": [
        "gen_file = 'gpt2_gentext_{:%Y%m%d_%H%M%S}.txt'.format(datetime.utcnow())\n",
        "\n",
        "gpt2.generate_to_file(sess,\n",
        "                      destination_path=gen_file,\n",
        "                      length=500,\n",
        "                      temperature=0.7,\n",
        "                      nsamples=100,\n",
        "                      batch_size=20\n",
        "                      )"
      ],
      "execution_count": 0,
      "outputs": []
    },
    {
      "cell_type": "code",
      "metadata": {
        "id": "0-LRex8lfv1g",
        "colab_type": "code",
        "colab": {}
      },
      "source": [
        "# may have to run twice to get file to download\n",
        "files.download(gen_file)"
      ],
      "execution_count": 0,
      "outputs": []
    },
    {
      "cell_type": "markdown",
      "metadata": {
        "id": "QQAN3M6RT7Kj",
        "colab_type": "text"
      },
      "source": [
        "## Generate Text From The Pretrained Model\n",
        "\n",
        "If you want to generate text from the pretrained model, not a finetuned model, pass `model_name` to `gpt2.load_gpt2()` and `gpt2.generate()`.\n",
        "\n",
        "This is currently the only way to generate text from the 774M \"large\" model."
      ]
    },
    {
      "cell_type": "code",
      "metadata": {
        "id": "hsUd_jHgUZnD",
        "colab_type": "code",
        "outputId": "4e0c8a3f-3527-41c4-e3fe-3357f3f8f6c2",
        "colab": {
          "base_uri": "https://localhost:8080/",
          "height": 158
        }
      },
      "source": [
        "model_name = \"774M\"\n",
        "\n",
        "gpt2.download_gpt2(model_name=model_name)"
      ],
      "execution_count": 0,
      "outputs": [
        {
          "output_type": "stream",
          "text": [
            "Fetching checkpoint: 1.05Mit [00:00, 354Mit/s]                                                      \n",
            "Fetching encoder.json: 1.05Mit [00:00, 131Mit/s]                                                    \n",
            "Fetching hparams.json: 1.05Mit [00:00, 279Mit/s]                                                    \n",
            "Fetching model.ckpt.data-00000-of-00001: 3.10Git [00:23, 131Mit/s]                                  \n",
            "Fetching model.ckpt.index: 1.05Mit [00:00, 380Mit/s]                                                \n",
            "Fetching model.ckpt.meta: 2.10Mit [00:00, 226Mit/s]                                                 \n",
            "Fetching vocab.bpe: 1.05Mit [00:00, 199Mit/s]                                                       \n"
          ],
          "name": "stderr"
        }
      ]
    },
    {
      "cell_type": "code",
      "metadata": {
        "id": "BAe4NpKNUj2C",
        "colab_type": "code",
        "outputId": "b09bfe1d-2ff8-4b8a-fffb-273d28d5d4ae",
        "colab": {
          "base_uri": "https://localhost:8080/",
          "height": 124
        }
      },
      "source": [
        "sess = gpt2.start_tf_sess()\n",
        "\n",
        "gpt2.load_gpt2(sess, model_name=model_name)"
      ],
      "execution_count": 0,
      "outputs": [
        {
          "output_type": "stream",
          "text": [
            "WARNING: Logging before flag parsing goes to stderr.\n",
            "W0828 18:37:58.571830 139905369159552 deprecation.py:323] From /usr/local/lib/python3.6/dist-packages/tensorflow/python/training/saver.py:1276: checkpoint_exists (from tensorflow.python.training.checkpoint_management) is deprecated and will be removed in a future version.\n",
            "Instructions for updating:\n",
            "Use standard file APIs to check for files with this prefix.\n"
          ],
          "name": "stderr"
        },
        {
          "output_type": "stream",
          "text": [
            "Loading pretrained model models/774M/model.ckpt\n"
          ],
          "name": "stdout"
        }
      ]
    },
    {
      "cell_type": "code",
      "metadata": {
        "id": "-xInIZKaU104",
        "colab_type": "code",
        "outputId": "56348e28-7d08-45e3-c859-f26c0efd066d",
        "colab": {
          "base_uri": "https://localhost:8080/",
          "height": 797
        }
      },
      "source": [
        "gpt2.generate(sess,\n",
        "              model_name=model_name,\n",
        "              prefix=\"The secret of life is\",\n",
        "              length=100,\n",
        "              temperature=0.7,\n",
        "              top_p=0.9,\n",
        "              nsamples=5,\n",
        "              batch_size=5\n",
        "              )"
      ],
      "execution_count": 0,
      "outputs": [
        {
          "output_type": "stream",
          "text": [
            "The secret of life is that it's really easy to make it complicated,\" said Bill Nye, the host of the popular science show \"Bill Nye the Science Guy.\" \"And this is one of the reasons why we all need to be smarter about science, because we can't keep up with the amazing things that are going on all the time.\"\n",
            "\n",
            "While Nye is correct that \"everything that's going on all the time\" is making the world a better place, he misses the point. This is not\n",
            "====================\n",
            "The secret of life is in the rhythm of the universe. It's not a mystery. It's not a mystery to me. It's the nature of the universe. It's the beauty of the universe. It's the way the universe works. It's the way the universe is. It's the way the universe is going to work. It's the way the universe is. It's the way the universe is. It's the way the universe is. It's the way the universe is. It's the way\n",
            "====================\n",
            "The secret of life is in the universe.\n",
            "\n",
            "\n",
            "-\n",
            "\n",
            "The Red Devil\n",
            "\n",
            "It's the end of the world as we know it, and the only thing that can save us is a band of super-powered individuals known as the Red Devil.\n",
            "\n",
            "\n",
            "The Red Devil is a group of super-powered individuals who are seeking the secret of life and the only way they know how to do it is by taking on the roles of a variety of different super-powered individuals, each of which has their own\n",
            "====================\n",
            "The secret of life is in the mixing of the elements, and it is the mixing of the elements that makes life possible.\"\n",
            "\n",
            "But in the world of food science, the idea of a \"complex\" or \"complexity\" is almost entirely imaginary.\n",
            "\n",
            "As a scientist, I'm fascinated by the question of how life first began.\n",
            "\n",
            "It's the question that drives my work and the work of the scientists who work on it.\n",
            "\n",
            "My current research is exploring how microbes work in the first moments\n",
            "====================\n",
            "The secret of life is the journey of life, the search for the truth.\n",
            "\n",
            "4.4.2. The last thing you know\n",
            "\n",
            "There is nothing more important than the last thing you know.\n",
            "\n",
            "4.4.3. The little things that make all the difference\n",
            "\n",
            "The little things that make all the difference.\n",
            "\n",
            "4.4.4. The truth is the best teacher\n",
            "\n",
            "The truth is the best teacher.\n",
            "\n",
            "4.4.5. The truth is what\n",
            "====================\n"
          ],
          "name": "stdout"
        }
      ]
    },
    {
      "cell_type": "markdown",
      "metadata": {
        "id": "ig-KVgkCDCKD",
        "colab_type": "text"
      },
      "source": [
        "# Etcetera\n",
        "\n",
        "If the notebook has errors (e.g. GPU Sync Fail), force-kill the Colaboratory virtual machine and restart it with the command below:"
      ]
    },
    {
      "cell_type": "code",
      "metadata": {
        "id": "rIHiVP53FnsX",
        "colab_type": "code",
        "colab": {}
      },
      "source": [
        "!kill -9 -1"
      ],
      "execution_count": 0,
      "outputs": []
    },
    {
      "cell_type": "markdown",
      "metadata": {
        "id": "wmTXWNUygS5E",
        "colab_type": "text"
      },
      "source": [
        "# LICENSE\n",
        "\n",
        "MIT License\n",
        "\n",
        "Copyright (c) 2019 Max Woolf\n",
        "\n",
        "Permission is hereby granted, free of charge, to any person obtaining a copy\n",
        "of this software and associated documentation files (the \"Software\"), to deal\n",
        "in the Software without restriction, including without limitation the rights\n",
        "to use, copy, modify, merge, publish, distribute, sublicense, and/or sell\n",
        "copies of the Software, and to permit persons to whom the Software is\n",
        "furnished to do so, subject to the following conditions:\n",
        "\n",
        "The above copyright notice and this permission notice shall be included in all\n",
        "copies or substantial portions of the Software.\n",
        "\n",
        "THE SOFTWARE IS PROVIDED \"AS IS\", WITHOUT WARRANTY OF ANY KIND, EXPRESS OR\n",
        "IMPLIED, INCLUDING BUT NOT LIMITED TO THE WARRANTIES OF MERCHANTABILITY,\n",
        "FITNESS FOR A PARTICULAR PURPOSE AND NONINFRINGEMENT. IN NO EVENT SHALL THE\n",
        "AUTHORS OR COPYRIGHT HOLDERS BE LIABLE FOR ANY CLAIM, DAMAGES OR OTHER\n",
        "LIABILITY, WHETHER IN AN ACTION OF CONTRACT, TORT OR OTHERWISE, ARISING FROM,\n",
        "OUT OF OR IN CONNECTION WITH THE SOFTWARE OR THE USE OR OTHER DEALINGS IN THE\n",
        "SOFTWARE."
      ]
    }
  ]
}